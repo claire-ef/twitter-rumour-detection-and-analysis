{
 "cells": [
  {
   "cell_type": "code",
   "execution_count": 2,
   "metadata": {},
   "outputs": [],
   "source": [
    "import pandas as pd\n",
    "import numpy as np\n",
    "import json"
   ]
  },
  {
   "cell_type": "code",
   "execution_count": 17,
   "metadata": {},
   "outputs": [],
   "source": [
    "# load covid data\n",
    "ids = []\n",
    "with open('project-data/covid.data.txt') as f:\n",
    "    for line in f.readlines():\n",
    "        ids.append(line.rstrip('\\n').split(','))\n",
    "\n",
    "covidData = []\n",
    "for thread in ids:\n",
    "    try:\n",
    "        # proceed only if the source tweet exists\n",
    "        with open('project-data/covid_objs/' + thread[0] + '.json') as json_file:\n",
    "            source = json.load(json_file)['text']\n",
    "        covidData.append(source)\n",
    "    except:\n",
    "        covidData.append('')\n",
    "        continue"
   ]
  },
  {
   "cell_type": "code",
   "execution_count": 31,
   "metadata": {},
   "outputs": [],
   "source": [
    "# load predicted labels\n",
    "empty_tweet_index = pd.read_csv(\"project-data/covid_removed_index.csv\")['predicted_index'].values\n",
    "predicted_index = [ind for ind in range(len(covidData)) if ind not in empty_tweet_index ]\n",
    "labels = pd.read_csv(\"project-data/covid_predictions.csv\")['labels'].values\n",
    "\n",
    "# store rumours and non-rumours seperately\n",
    "rumours = []\n",
    "nonrumours = []\n",
    "for ind, label in zip(predicted_index, labels):\n",
    "    if label == 0:\n",
    "        nonrumours.append(covidData[ind])\n",
    "    else:\n",
    "        rumours.append(covidData[ind])"
   ]
  },
  {
   "cell_type": "markdown",
   "metadata": {},
   "source": [
    "## Popular Hashtags of rumours and non-rumours"
   ]
  },
  {
   "cell_type": "code",
   "execution_count": 32,
   "metadata": {},
   "outputs": [],
   "source": [
    "# tokenizer\n",
    "from nltk.tokenize import TweetTokenizer\n",
    "tt = TweetTokenizer()\n",
    "\n",
    "def get_hashtags(data):\n",
    "    hashtags = []\n",
    "    for tweet in data:\n",
    "        for word in tt.tokenize(tweet):\n",
    "            if word.startswith(\"#\") and len(word) > 1:\n",
    "                hashtags.append(word)\n",
    "    return hashtags\n",
    "rumours_hashtags = get_hashtags(rumours)\n",
    "nonrumours_hashtags = get_hashtags(nonrumours)"
   ]
  },
  {
   "cell_type": "code",
   "execution_count": 33,
   "metadata": {},
   "outputs": [
    {
     "name": "stdout",
     "output_type": "stream",
     "text": [
      "rumour hashtags: [('#COVID19', 67), ('#coronavirus', 39), ('#Coronavirus', 10), ('#Trump', 7), ('#covid19', 6), ('#China', 6), ('#BREAKING', 4), ('#Covid19', 3), ('#BlackLivesMatter', 3), ('#TrumpPressConference', 2)]\n",
      "non-rumour hashtags: [('#COVID19', 1031), ('#coronavirus', 427), ('#Coronavirus', 109), ('#Covid19', 85), ('#BREAKING', 84), ('#covid19', 58), ('#CoronaVirus', 24), ('#China', 19), ('#lockdown', 15), ('#StayHome', 14)]\n"
     ]
    }
   ],
   "source": [
    "from collections import Counter\n",
    "print('rumour hashtags: {}'.format(Counter(rumours_hashtags).most_common(10)))\n",
    "print('non-rumour hashtags: {}'.format(Counter(nonrumours_hashtags).most_common(10)))"
   ]
  },
  {
   "cell_type": "markdown",
   "metadata": {},
   "source": [
    "## Sentiment of rumours and non-rumours"
   ]
  },
  {
   "cell_type": "code",
   "execution_count": 35,
   "metadata": {},
   "outputs": [],
   "source": [
    "# preprocess tweets\n",
    "import preprocessor as p\n",
    "p.set_options(p.OPT.URL, p.OPT.MENTION)\n",
    "\n",
    "tidy_rumours = [p.clean(tweet) for tweet in rumours]\n",
    "tidy_nonrumours = [p.clean(tweet) for tweet in nonrumours]"
   ]
  },
  {
   "cell_type": "code",
   "execution_count": 36,
   "metadata": {},
   "outputs": [
    {
     "name": "stdout",
     "output_type": "stream",
     "text": [
      "rumour sentiments: Counter({'neutral': 1144, 'positive': 780, 'negative': 644})\n",
      "non-rumour sentiments: Counter({'neutral': 5674, 'positive': 5380, 'negative': 2340})\n"
     ]
    }
   ],
   "source": [
    "from textblob import TextBlob\n",
    "\n",
    "def get_attidude(score):\n",
    "    if score > 0:\n",
    "        return 'positive'\n",
    "    elif score < 0:\n",
    "        return 'negative'\n",
    "    else:\n",
    "        return 'neutral'\n",
    "\n",
    "def sentiment(tweets):\n",
    "    polarity_scores = [TextBlob(t).sentiment.polarity for t in tweets]\n",
    "    attitudes = [get_attidude(s) for s in polarity_scores]\n",
    "    return attitudes\n",
    "\n",
    "rumour_sentiments = sentiment(tidy_rumours)\n",
    "nonrumour_sentiments = sentiment(tidy_nonrumours)\n",
    "\n",
    "rumour_sa_counts = Counter(rumour_sentiments)\n",
    "nonrumour_sa_counts = Counter(nonrumour_sentiments)\n",
    "\n",
    "print('rumour sentiments: {}'.format(Counter(rumour_sa_counts)))\n",
    "print('non-rumour sentiments: {}'.format(Counter(nonrumour_sa_counts)))"
   ]
  },
  {
   "cell_type": "code",
   "execution_count": 48,
   "metadata": {},
   "outputs": [
    {
     "data": {
      "image/png": "[encoded data removed]",
      "text/plain": [
       "<Figure size 800x600 with 1 Axes>"
      ]
     },
     "metadata": {
      "needs_background": "light"
     },
     "output_type": "display_data"
    }
   ],
   "source": [
    "import matplotlib.pyplot as plt\n",
    "\n",
    "# data preparation\n",
    "def sentiment_percentage(labels):\n",
    "    counts = Counter(labels)\n",
    "    neg = counts['negative']\n",
    "    pos = counts['positive']\n",
    "    neu = counts['neutral']\n",
    "    s = len(labels)\n",
    "    return np.round(np.array([pos, neu, neg])/s*100, 2)\n",
    "\n",
    "rumour_sa_pctg = sentiment_percentage(rumour_sentiments)\n",
    "nonrumour_sa_pctg = sentiment_percentage(nonrumour_sentiments)\n",
    "\n",
    "plt.figure(figsize=(8,6), dpi=100)\n",
    "\n",
    "width = 0.3\n",
    "ind = np.arange(3)\n",
    "\n",
    "plt.bar(ind, rumour_sa_pctg, width, label='Rumour')\n",
    "plt.bar(ind + width, nonrumour_sa_pctg, width, label='Non-Rumour')\n",
    "\n",
    "plt.title('Sentiment of Source Tweets')\n",
    "plt.ylabel('Percentage (%)')\n",
    "\n",
    "plt.xticks(ind + width / 2, ('Positive', 'Neutral', 'Negative'))\n",
    "\n",
    "plt.legend(loc='best')\n",
    "plt.savefig('sentiment.png', bbox_inches='tight')\n",
    "plt.show()"
   ]
  },
  {
   "cell_type": "code",
   "execution_count": 47,
   "metadata": {},
   "outputs": [
    {
     "data": {
      "text/plain": [
       "<Figure size 432x288 with 0 Axes>"
      ]
     },
     "metadata": {},
     "output_type": "display_data"
    }
   ],
   "source": [
    "plt.savefig('sentiment.png', bbox_inches='tight')"
   ]
  }
 ],
 "metadata": {
  "interpreter": {
   "hash": "40d3a090f54c6569ab1632332b64b2c03c39dcf918b08424e98f38b5ae0af88f"
  },
  "kernelspec": {
   "display_name": "Python 3.7.6 ('base')",
   "language": "python",
   "name": "python3"
  },
  "language_info": {
   "codemirror_mode": {
    "name": "ipython",
    "version": 3
   },
   "file_extension": ".py",
   "mimetype": "text/x-python",
   "name": "python",
   "nbconvert_exporter": "python",
   "pygments_lexer": "ipython3",
   "version": "3.7.6"
  },
  "orig_nbformat": 4
 },
 "nbformat": 4,
 "nbformat_minor": 2
}
